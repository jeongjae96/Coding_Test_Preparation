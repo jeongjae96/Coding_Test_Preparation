{
 "cells": [
  {
   "cell_type": "markdown",
   "metadata": {},
   "source": [
    "# 타겟 넘버\n",
    "\n",
    "<i>문제 출처: https://programmers.co.kr/learn/courses/30/lessons/43165?language=python3</i>"
   ]
  },
  {
   "cell_type": "code",
   "execution_count": 1,
   "metadata": {},
   "outputs": [],
   "source": [
    "# product(*list) : 배열 안의 배열들로 만들 수 있는 조합을 모두 만든다.\n",
    "# Asterisk(*)을 넣어야 한다. *는 Unpacking을 위함이다.\n",
    "\n",
    "from itertools import product\n",
    "\n",
    "def solution(numbers, target):\n",
    "    answer = 0\n",
    "    \n",
    "    l = [(x, -x) for x in numbers]\n",
    "    s = list(map(sum, product(*l)))\n",
    "    \n",
    "    answer = s.count(target)\n",
    "    \n",
    "    return answer"
   ]
  },
  {
   "cell_type": "code",
   "execution_count": 3,
   "metadata": {},
   "outputs": [
    {
     "name": "stdout",
     "output_type": "stream",
     "text": [
      "[(1, -1), (1, -1), (1, -1), (1, -1), (1, -1)]\n"
     ]
    }
   ],
   "source": [
    "numbers = [1,1,1,1,1]\n",
    "\n",
    "l = [(x, -x) for x in numbers]\n",
    "print(l)"
   ]
  },
  {
   "cell_type": "code",
   "execution_count": 4,
   "metadata": {},
   "outputs": [
    {
     "name": "stdout",
     "output_type": "stream",
     "text": [
      "[5, 3, 3, 1, 3, 1, 1, -1, 3, 1, 1, -1, 1, -1, -1, -3, 3, 1, 1, -1, 1, -1, -1, -3, 1, -1, -1, -3, -1, -3, -3, -5]\n"
     ]
    }
   ],
   "source": [
    "s = list(map(sum, product(*l)))\n",
    "print(s)"
   ]
  },
  {
   "cell_type": "code",
   "execution_count": 6,
   "metadata": {},
   "outputs": [
    {
     "name": "stdout",
     "output_type": "stream",
     "text": [
      "5\n"
     ]
    }
   ],
   "source": [
    "target = 3\n",
    "\n",
    "print(s.count(target))"
   ]
  }
 ],
 "metadata": {
  "kernelspec": {
   "display_name": "Python 3",
   "language": "python",
   "name": "python3"
  },
  "language_info": {
   "codemirror_mode": {
    "name": "ipython",
    "version": 3
   },
   "file_extension": ".py",
   "mimetype": "text/x-python",
   "name": "python",
   "nbconvert_exporter": "python",
   "pygments_lexer": "ipython3",
   "version": "3.7.3"
  }
 },
 "nbformat": 4,
 "nbformat_minor": 2
}
