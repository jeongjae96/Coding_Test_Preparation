{
 "cells": [
  {
   "cell_type": "markdown",
   "metadata": {},
   "source": [
    "### copy 모듈\n",
    "\n",
    "출처: https://blog.naver.com/websearch/222140334361"
   ]
  },
  {
   "cell_type": "code",
   "execution_count": 2,
   "metadata": {},
   "outputs": [
    {
     "name": "stdout",
     "output_type": "stream",
     "text": [
      "True\n",
      "True\n"
     ]
    }
   ],
   "source": [
    "a = [1, 2, 3, 4]\n",
    "b = a\n",
    "\n",
    "print(a == b)\n",
    "print(a is b)"
   ]
  },
  {
   "cell_type": "code",
   "execution_count": 3,
   "metadata": {},
   "outputs": [
    {
     "name": "stdout",
     "output_type": "stream",
     "text": [
      "[1, [2, 3, 6], (4, 5)]\n",
      "[1, [2, 3, 6], (4, 5, 7, 8), 9]\n"
     ]
    }
   ],
   "source": [
    "import copy\n",
    "\n",
    "# copy 메서드는 여러 겹으로 된 리스트를 다 복사하지 못 한다.\n",
    "l2 = [1, [2,3], (4,5)]\n",
    "c_list = copy.copy(l2)\n",
    "c_list[1].append(6)\n",
    "c_list[2] += (7,8)\n",
    "c_list.append(9)\n",
    "\n",
    "print(l2)\n",
    "print(c_list)"
   ]
  },
  {
   "cell_type": "code",
   "execution_count": 4,
   "metadata": {},
   "outputs": [
    {
     "name": "stdout",
     "output_type": "stream",
     "text": [
      "[1, [2, 3], (4, 5)]\n",
      "[1, [2, 3, 6], (4, 5, 7, 8), 9]\n"
     ]
    }
   ],
   "source": [
    "l1 = [1, [2,3], (4,5)]\n",
    "dc_list = copy.deepcopy(l1)\n",
    "dc_list[1].append(6)\n",
    "dc_list[2] += (7,8)\n",
    "dc_list.append(9)\n",
    "\n",
    "print(l1)\n",
    "print(dc_list)"
   ]
  },
  {
   "cell_type": "markdown",
   "metadata": {},
   "source": [
    "### cycle"
   ]
  },
  {
   "cell_type": "markdown",
   "metadata": {},
   "source": [
    "iterable에서 요소를 반환하고 각각의 복사본을 저장하는 반복자를 만든다. 반복 가능한 요소가 모두 소모되면 저장된 사본에서 요소를 리턴한다. 반복 가능한 요소가 모두 소모될때까지 무한정 반복한다.\n",
    "\n",
    "출처: https://hckcksrl.medium.com/python-itertools-cycle-module-f53ba30949ed"
   ]
  },
  {
   "cell_type": "code",
   "execution_count": 5,
   "metadata": {},
   "outputs": [
    {
     "name": "stdout",
     "output_type": "stream",
     "text": [
      "1 a\n",
      "2 b\n",
      "3 c\n",
      "4 d\n",
      "1 e\n",
      "2 f\n",
      "3 g\n"
     ]
    }
   ],
   "source": [
    "from itertools import cycle\n",
    "\n",
    "list1 = [1,2,3,4]\n",
    "list2 = ['a','b','c','d','e','f','g']\n",
    "\n",
    "for list1_item, list2_item in zip(cycle(list1), list2) : \n",
    "    print(list1_item,list2_item)"
   ]
  },
  {
   "cell_type": "markdown",
   "metadata": {},
   "source": [
    "### zip"
   ]
  },
  {
   "cell_type": "markdown",
   "metadata": {},
   "source": [
    "여러 개의 리스트를 순서대로(상보적으로) 묶어 주는 역할을 하는 함수\n",
    "\n",
    "출처: https://blog.naver.com/regenesis90/222346953808"
   ]
  },
  {
   "cell_type": "code",
   "execution_count": 6,
   "metadata": {},
   "outputs": [],
   "source": [
    "resid_name=['Andrea', 'Yanis', 'Cleveth', 'NY', 'Hainz', 'Ivans', 'Din']\n",
    "resid_height=[163, 178, 169, 176, 179, 170, 180]\n",
    "resid_gender=['Female', 'Male', 'Female', 'Male', 'Male', 'Male', 'Male']"
   ]
  },
  {
   "cell_type": "code",
   "execution_count": 7,
   "metadata": {},
   "outputs": [
    {
     "name": "stdout",
     "output_type": "stream",
     "text": [
      "Andrea 163\n",
      "Yanis 178\n",
      "Cleveth 169\n",
      "NY 176\n",
      "Hainz 179\n",
      "Ivans 170\n",
      "Din 180\n"
     ]
    }
   ],
   "source": [
    "for k,v in zip(resid_name, resid_height):\n",
    "    print(k,v)"
   ]
  },
  {
   "cell_type": "code",
   "execution_count": 8,
   "metadata": {},
   "outputs": [
    {
     "name": "stdout",
     "output_type": "stream",
     "text": [
      "Andrea 163 Female\n",
      "Yanis 178 Male\n",
      "Cleveth 169 Female\n",
      "NY 176 Male\n",
      "Hainz 179 Male\n",
      "Ivans 170 Male\n",
      "Din 180 Male\n"
     ]
    }
   ],
   "source": [
    "for a,b,c in zip(resid_name, resid_height, resid_gender):\n",
    "    print(a,b,c)"
   ]
  },
  {
   "cell_type": "markdown",
   "metadata": {},
   "source": [
    "### enumerate\n",
    "\n",
    "출처: https://wikidocs.net/20792"
   ]
  },
  {
   "cell_type": "code",
   "execution_count": 9,
   "metadata": {},
   "outputs": [
    {
     "name": "stdout",
     "output_type": "stream",
     "text": [
      "0 : 재\n",
      "1 : 미\n",
      "2 : 있\n",
      "3 : 는\n",
      "4 :  \n",
      "5 : 파\n",
      "6 : 이\n",
      "7 : 썬\n"
     ]
    }
   ],
   "source": [
    "data = enumerate(\"재미있는 파이썬\")\n",
    "\n",
    "for i, value in data:\n",
    "    print(i, \":\", value)"
   ]
  },
  {
   "cell_type": "code",
   "execution_count": 10,
   "metadata": {},
   "outputs": [
    {
     "name": "stdout",
     "output_type": "stream",
     "text": [
      "0 : 재\n",
      "1 : 미\n",
      "2 : 있\n",
      "3 : 는\n",
      "4 :  \n",
      "5 : 파\n",
      "6 : 이\n",
      "7 : 썬\n"
     ]
    }
   ],
   "source": [
    "for i, v in enumerate(\"재미있는 파이썬\"):\n",
    "    print(i, ':', v)"
   ]
  }
 ],
 "metadata": {
  "kernelspec": {
   "display_name": "Python 3",
   "language": "python",
   "name": "python3"
  },
  "language_info": {
   "codemirror_mode": {
    "name": "ipython",
    "version": 3
   },
   "file_extension": ".py",
   "mimetype": "text/x-python",
   "name": "python",
   "nbconvert_exporter": "python",
   "pygments_lexer": "ipython3",
   "version": "3.7.3"
  }
 },
 "nbformat": 4,
 "nbformat_minor": 2
}
